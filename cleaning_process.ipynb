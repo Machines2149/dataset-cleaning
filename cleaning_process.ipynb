{
 "cells": [
  {
   "cell_type": "code",
   "execution_count": 1,
   "id": "composed-arctic",
   "metadata": {},
   "outputs": [],
   "source": [
    "import pandas as pd\n",
    "import numpy as np\n",
    "from faker import Faker\n",
    "import datetime\n",
    "fake = Faker()"
   ]
  },
  {
   "cell_type": "markdown",
   "id": "exterior-greek",
   "metadata": {},
   "source": [
    "## Generate the clean dataset"
   ]
  },
  {
   "cell_type": "code",
   "execution_count": 2,
   "id": "797ccbd7-bce0-4dfc-8df5-0b60832e8734",
   "metadata": {},
   "outputs": [],
   "source": [
    "# create EAN8 and EAN13 barcodes with a 00 prefix\n",
    "def create_ean(data_num=200,ean_len=8, prefix=('00','00'), set_seed=456):\n",
    "    Faker.seed(set_seed)\n",
    "    return [fake.ean(prefixes=prefix,length=ean_len) for ean_code in range(0,data_num)]\n",
    "\n",
    "ean8 = create_ean(ean_len=8)\n",
    "ean13 = create_ean(ean_len=13)"
   ]
  },
  {
   "cell_type": "code",
   "execution_count": 3,
   "id": "impossible-cartoon",
   "metadata": {},
   "outputs": [],
   "source": [
    "# create the date column using Faker\n",
    "date = [fake.date_between(start_date=datetime.date(2018,1,1),\n",
    "                   end_date=datetime.date(2021, 12, 1))\n",
    " for date in range(0,200)]"
   ]
  },
  {
   "cell_type": "code",
   "execution_count": 4,
   "id": "transparent-geology",
   "metadata": {},
   "outputs": [],
   "source": [
    "# create the random generator\n",
    "rng = np.random.default_rng(2021)"
   ]
  },
  {
   "cell_type": "code",
   "execution_count": 5,
   "id": "specific-disability",
   "metadata": {},
   "outputs": [],
   "source": [
    "units_sold = rng.integers(low=0, high=100, size=200)"
   ]
  },
  {
   "cell_type": "code",
   "execution_count": 6,
   "id": "durable-sleep",
   "metadata": {},
   "outputs": [],
   "source": [
    "stock = rng.integers(low=0, high=100, size=200)"
   ]
  },
  {
   "cell_type": "code",
   "execution_count": 7,
   "id": "treated-lucas",
   "metadata": {},
   "outputs": [],
   "source": [
    "rating_space = np.arange(0.5,5.0,step=0.1)\n",
    "rating = rng.choice(rating_space,size=200)"
   ]
  },
  {
   "cell_type": "code",
   "execution_count": 8,
   "id": "consecutive-reason",
   "metadata": {},
   "outputs": [],
   "source": [
    "price_space = np.arange(150,10000,step=1)\n",
    "price_per_unit = rng.choice(price_space,size=200)"
   ]
  },
  {
   "cell_type": "code",
   "execution_count": 9,
   "id": "needed-windows",
   "metadata": {},
   "outputs": [],
   "source": [
    "# create the cost per product\n",
    "cost_space = 0.3*price_space\n",
    "assert round((cost_space/price_space).mean(),1) == 0.3\n",
    "cost_per_unit = rng.choice(price_space,size=200)"
   ]
  },
  {
   "cell_type": "code",
   "execution_count": 10,
   "id": "executed-convenience",
   "metadata": {},
   "outputs": [],
   "source": [
    "promo = rng.choice(['promo','normal'],size=200)"
   ]
  },
  {
   "cell_type": "code",
   "execution_count": 11,
   "id": "invalid-charm",
   "metadata": {},
   "outputs": [],
   "source": [
    "# create a 25% off promo price\n",
    "new_price_per_unit = []\n",
    "for event,price in zip(promo,price_per_unit):\n",
    "    if event=='promo':\n",
    "        new_price_per_unit.append(price*.75)\n",
    "    else:\n",
    "        new_price_per_unit.append(price)"
   ]
  },
  {
   "cell_type": "code",
   "execution_count": 12,
   "id": "amateur-morrison",
   "metadata": {},
   "outputs": [],
   "source": [
    "location = rng.choice(['online','store'],size=200)"
   ]
  },
  {
   "cell_type": "code",
   "execution_count": 13,
   "id": "satisfactory-stanford",
   "metadata": {},
   "outputs": [],
   "source": [
    "color = rng.choice(['black','silver','grey'],size=200)"
   ]
  },
  {
   "cell_type": "code",
   "execution_count": 14,
   "id": "organized-trailer",
   "metadata": {},
   "outputs": [
    {
     "data": {
      "text/plain": [
       "0      3.7\n",
       "1      4.9\n",
       "2      4.1\n",
       "3      1.6\n",
       "4      1.3\n",
       "      ... \n",
       "195    3.1\n",
       "196    2.8\n",
       "197    2.9\n",
       "198    4.8\n",
       "199    1.5\n",
       "Name: rating, Length: 200, dtype: float64"
      ]
     },
     "execution_count": 14,
     "metadata": {},
     "output_type": "execute_result"
    }
   ],
   "source": [
    "clean_data = pd.DataFrame({'date':date,\n",
    "                           'ean8':ean8,\n",
    "                           'ean13':ean13,\n",
    "                           'units_sold':units_sold,\n",
    "                           'stock':stock,\n",
    "                           'rating':rating,\n",
    "                           'cost_per_unit':cost_per_unit,\n",
    "                           'promo':promo,\n",
    "                           'normal_price': price_per_unit,\n",
    "                           'new_price_per_unit':new_price_per_unit,\n",
    "                           'location':location,\n",
    "                           'color':color\n",
    "                          })\n",
    "\n",
    "# make sure the data are in the correct type\n",
    "clean_data.date = pd.to_datetime(clean_data.date)\n",
    "clean_data.rating.apply(lambda x: round(x,1))"
   ]
  },
  {
   "cell_type": "code",
   "execution_count": 15,
   "id": "resistant-boards",
   "metadata": {},
   "outputs": [
    {
     "name": "stdout",
     "output_type": "stream",
     "text": [
      "<class 'pandas.core.frame.DataFrame'>\n",
      "RangeIndex: 200 entries, 0 to 199\n",
      "Data columns (total 12 columns):\n",
      " #   Column              Non-Null Count  Dtype         \n",
      "---  ------              --------------  -----         \n",
      " 0   date                200 non-null    datetime64[ns]\n",
      " 1   ean8                200 non-null    object        \n",
      " 2   ean13               200 non-null    object        \n",
      " 3   units_sold          200 non-null    int64         \n",
      " 4   stock               200 non-null    int64         \n",
      " 5   rating              200 non-null    float64       \n",
      " 6   cost_per_unit       200 non-null    int64         \n",
      " 7   promo               200 non-null    object        \n",
      " 8   normal_price        200 non-null    int64         \n",
      " 9   new_price_per_unit  200 non-null    float64       \n",
      " 10  location            200 non-null    object        \n",
      " 11  color               200 non-null    object        \n",
      "dtypes: datetime64[ns](1), float64(2), int64(4), object(5)\n",
      "memory usage: 18.9+ KB\n"
     ]
    }
   ],
   "source": [
    "clean_data.info()"
   ]
  },
  {
   "cell_type": "code",
   "execution_count": 16,
   "id": "nutritional-reviewer",
   "metadata": {},
   "outputs": [
    {
     "data": {
      "text/plain": [
       "(200, 12)"
      ]
     },
     "execution_count": 16,
     "metadata": {},
     "output_type": "execute_result"
    }
   ],
   "source": [
    "clean_data.shape"
   ]
  },
  {
   "cell_type": "code",
   "execution_count": 17,
   "id": "cutting-professor",
   "metadata": {
    "scrolled": true
   },
   "outputs": [
    {
     "data": {
      "text/html": [
       "<div>\n",
       "<style scoped>\n",
       "    .dataframe tbody tr th:only-of-type {\n",
       "        vertical-align: middle;\n",
       "    }\n",
       "\n",
       "    .dataframe tbody tr th {\n",
       "        vertical-align: top;\n",
       "    }\n",
       "\n",
       "    .dataframe thead th {\n",
       "        text-align: right;\n",
       "    }\n",
       "</style>\n",
       "<table border=\"1\" class=\"dataframe\">\n",
       "  <thead>\n",
       "    <tr style=\"text-align: right;\">\n",
       "      <th></th>\n",
       "      <th>units_sold</th>\n",
       "      <th>stock</th>\n",
       "      <th>rating</th>\n",
       "      <th>cost_per_unit</th>\n",
       "      <th>normal_price</th>\n",
       "      <th>new_price_per_unit</th>\n",
       "    </tr>\n",
       "  </thead>\n",
       "  <tbody>\n",
       "    <tr>\n",
       "      <th>count</th>\n",
       "      <td>200.000000</td>\n",
       "      <td>200.000000</td>\n",
       "      <td>200.000000</td>\n",
       "      <td>200.000000</td>\n",
       "      <td>200.000000</td>\n",
       "      <td>200.000000</td>\n",
       "    </tr>\n",
       "    <tr>\n",
       "      <th>mean</th>\n",
       "      <td>46.535000</td>\n",
       "      <td>50.440000</td>\n",
       "      <td>2.776000</td>\n",
       "      <td>4759.940000</td>\n",
       "      <td>4968.800000</td>\n",
       "      <td>4378.671250</td>\n",
       "    </tr>\n",
       "    <tr>\n",
       "      <th>std</th>\n",
       "      <td>28.433803</td>\n",
       "      <td>27.296187</td>\n",
       "      <td>1.296002</td>\n",
       "      <td>2746.094386</td>\n",
       "      <td>2828.942596</td>\n",
       "      <td>2571.492155</td>\n",
       "    </tr>\n",
       "    <tr>\n",
       "      <th>min</th>\n",
       "      <td>0.000000</td>\n",
       "      <td>1.000000</td>\n",
       "      <td>0.500000</td>\n",
       "      <td>158.000000</td>\n",
       "      <td>229.000000</td>\n",
       "      <td>209.250000</td>\n",
       "    </tr>\n",
       "    <tr>\n",
       "      <th>25%</th>\n",
       "      <td>23.000000</td>\n",
       "      <td>29.500000</td>\n",
       "      <td>1.600000</td>\n",
       "      <td>2680.500000</td>\n",
       "      <td>2388.000000</td>\n",
       "      <td>2108.125000</td>\n",
       "    </tr>\n",
       "    <tr>\n",
       "      <th>50%</th>\n",
       "      <td>45.500000</td>\n",
       "      <td>48.500000</td>\n",
       "      <td>2.800000</td>\n",
       "      <td>4409.500000</td>\n",
       "      <td>5242.500000</td>\n",
       "      <td>4415.375000</td>\n",
       "    </tr>\n",
       "    <tr>\n",
       "      <th>75%</th>\n",
       "      <td>71.000000</td>\n",
       "      <td>73.000000</td>\n",
       "      <td>4.000000</td>\n",
       "      <td>7247.750000</td>\n",
       "      <td>7406.750000</td>\n",
       "      <td>6359.250000</td>\n",
       "    </tr>\n",
       "    <tr>\n",
       "      <th>max</th>\n",
       "      <td>99.000000</td>\n",
       "      <td>99.000000</td>\n",
       "      <td>4.900000</td>\n",
       "      <td>9894.000000</td>\n",
       "      <td>9927.000000</td>\n",
       "      <td>9927.000000</td>\n",
       "    </tr>\n",
       "  </tbody>\n",
       "</table>\n",
       "</div>"
      ],
      "text/plain": [
       "       units_sold       stock      rating  cost_per_unit  normal_price  \\\n",
       "count  200.000000  200.000000  200.000000     200.000000    200.000000   \n",
       "mean    46.535000   50.440000    2.776000    4759.940000   4968.800000   \n",
       "std     28.433803   27.296187    1.296002    2746.094386   2828.942596   \n",
       "min      0.000000    1.000000    0.500000     158.000000    229.000000   \n",
       "25%     23.000000   29.500000    1.600000    2680.500000   2388.000000   \n",
       "50%     45.500000   48.500000    2.800000    4409.500000   5242.500000   \n",
       "75%     71.000000   73.000000    4.000000    7247.750000   7406.750000   \n",
       "max     99.000000   99.000000    4.900000    9894.000000   9927.000000   \n",
       "\n",
       "       new_price_per_unit  \n",
       "count          200.000000  \n",
       "mean          4378.671250  \n",
       "std           2571.492155  \n",
       "min            209.250000  \n",
       "25%           2108.125000  \n",
       "50%           4415.375000  \n",
       "75%           6359.250000  \n",
       "max           9927.000000  "
      ]
     },
     "execution_count": 17,
     "metadata": {},
     "output_type": "execute_result"
    }
   ],
   "source": [
    "clean_data.describe()"
   ]
  },
  {
   "cell_type": "markdown",
   "id": "chief-diploma",
   "metadata": {},
   "source": [
    "## Noise insertion process"
   ]
  },
  {
   "cell_type": "code",
   "execution_count": 18,
   "id": "opened-pharmacology",
   "metadata": {},
   "outputs": [
    {
     "data": {
      "text/html": [
       "<div>\n",
       "<style scoped>\n",
       "    .dataframe tbody tr th:only-of-type {\n",
       "        vertical-align: middle;\n",
       "    }\n",
       "\n",
       "    .dataframe tbody tr th {\n",
       "        vertical-align: top;\n",
       "    }\n",
       "\n",
       "    .dataframe thead th {\n",
       "        text-align: right;\n",
       "    }\n",
       "</style>\n",
       "<table border=\"1\" class=\"dataframe\">\n",
       "  <thead>\n",
       "    <tr style=\"text-align: right;\">\n",
       "      <th></th>\n",
       "      <th>date</th>\n",
       "      <th>ean8</th>\n",
       "      <th>ean13</th>\n",
       "      <th>units_sold</th>\n",
       "      <th>stock</th>\n",
       "      <th>rating</th>\n",
       "      <th>cost_per_unit</th>\n",
       "      <th>promo</th>\n",
       "      <th>normal_price</th>\n",
       "      <th>new_price_per_unit</th>\n",
       "      <th>location</th>\n",
       "      <th>color</th>\n",
       "    </tr>\n",
       "  </thead>\n",
       "  <tbody>\n",
       "    <tr>\n",
       "      <th>0</th>\n",
       "      <td>2021-01-25</td>\n",
       "      <td>00660983</td>\n",
       "      <td>0066098157118</td>\n",
       "      <td>75</td>\n",
       "      <td>79</td>\n",
       "      <td>3.7</td>\n",
       "      <td>3109</td>\n",
       "      <td>normal</td>\n",
       "      <td>8488</td>\n",
       "      <td>8488.00</td>\n",
       "      <td>online</td>\n",
       "      <td>black</td>\n",
       "    </tr>\n",
       "    <tr>\n",
       "      <th>1</th>\n",
       "      <td>2020-03-07</td>\n",
       "      <td>00117708</td>\n",
       "      <td>0042232689899</td>\n",
       "      <td>75</td>\n",
       "      <td>68</td>\n",
       "      <td>4.9</td>\n",
       "      <td>7613</td>\n",
       "      <td>normal</td>\n",
       "      <td>5027</td>\n",
       "      <td>5027.00</td>\n",
       "      <td>online</td>\n",
       "      <td>black</td>\n",
       "    </tr>\n",
       "    <tr>\n",
       "      <th>2</th>\n",
       "      <td>2021-09-20</td>\n",
       "      <td>00326896</td>\n",
       "      <td>0098054635231</td>\n",
       "      <td>49</td>\n",
       "      <td>27</td>\n",
       "      <td>4.1</td>\n",
       "      <td>1986</td>\n",
       "      <td>normal</td>\n",
       "      <td>5209</td>\n",
       "      <td>5209.00</td>\n",
       "      <td>store</td>\n",
       "      <td>grey</td>\n",
       "    </tr>\n",
       "    <tr>\n",
       "      <th>3</th>\n",
       "      <td>2018-04-26</td>\n",
       "      <td>00980548</td>\n",
       "      <td>0050542961673</td>\n",
       "      <td>94</td>\n",
       "      <td>22</td>\n",
       "      <td>1.6</td>\n",
       "      <td>7452</td>\n",
       "      <td>normal</td>\n",
       "      <td>7927</td>\n",
       "      <td>7927.00</td>\n",
       "      <td>store</td>\n",
       "      <td>silver</td>\n",
       "    </tr>\n",
       "    <tr>\n",
       "      <th>4</th>\n",
       "      <td>2019-04-18</td>\n",
       "      <td>00237253</td>\n",
       "      <td>0037812373497</td>\n",
       "      <td>66</td>\n",
       "      <td>67</td>\n",
       "      <td>1.3</td>\n",
       "      <td>6949</td>\n",
       "      <td>normal</td>\n",
       "      <td>7652</td>\n",
       "      <td>7652.00</td>\n",
       "      <td>store</td>\n",
       "      <td>grey</td>\n",
       "    </tr>\n",
       "    <tr>\n",
       "      <th>...</th>\n",
       "      <td>...</td>\n",
       "      <td>...</td>\n",
       "      <td>...</td>\n",
       "      <td>...</td>\n",
       "      <td>...</td>\n",
       "      <td>...</td>\n",
       "      <td>...</td>\n",
       "      <td>...</td>\n",
       "      <td>...</td>\n",
       "      <td>...</td>\n",
       "      <td>...</td>\n",
       "      <td>...</td>\n",
       "    </tr>\n",
       "    <tr>\n",
       "      <th>195</th>\n",
       "      <td>2018-07-28</td>\n",
       "      <td>00415026</td>\n",
       "      <td>0008370264503</td>\n",
       "      <td>50</td>\n",
       "      <td>27</td>\n",
       "      <td>3.1</td>\n",
       "      <td>6900</td>\n",
       "      <td>promo</td>\n",
       "      <td>3781</td>\n",
       "      <td>2835.75</td>\n",
       "      <td>store</td>\n",
       "      <td>grey</td>\n",
       "    </tr>\n",
       "    <tr>\n",
       "      <th>196</th>\n",
       "      <td>2020-03-05</td>\n",
       "      <td>00867559</td>\n",
       "      <td>0066214306413</td>\n",
       "      <td>85</td>\n",
       "      <td>62</td>\n",
       "      <td>2.8</td>\n",
       "      <td>2727</td>\n",
       "      <td>promo</td>\n",
       "      <td>3775</td>\n",
       "      <td>2831.25</td>\n",
       "      <td>store</td>\n",
       "      <td>silver</td>\n",
       "    </tr>\n",
       "    <tr>\n",
       "      <th>197</th>\n",
       "      <td>2021-03-05</td>\n",
       "      <td>00098403</td>\n",
       "      <td>0006500312049</td>\n",
       "      <td>20</td>\n",
       "      <td>42</td>\n",
       "      <td>2.9</td>\n",
       "      <td>9593</td>\n",
       "      <td>promo</td>\n",
       "      <td>607</td>\n",
       "      <td>455.25</td>\n",
       "      <td>online</td>\n",
       "      <td>black</td>\n",
       "    </tr>\n",
       "    <tr>\n",
       "      <th>198</th>\n",
       "      <td>2019-03-30</td>\n",
       "      <td>00032056</td>\n",
       "      <td>0007374372979</td>\n",
       "      <td>24</td>\n",
       "      <td>81</td>\n",
       "      <td>4.8</td>\n",
       "      <td>4621</td>\n",
       "      <td>promo</td>\n",
       "      <td>5632</td>\n",
       "      <td>4224.00</td>\n",
       "      <td>online</td>\n",
       "      <td>grey</td>\n",
       "    </tr>\n",
       "    <tr>\n",
       "      <th>199</th>\n",
       "      <td>2020-05-12</td>\n",
       "      <td>00339445</td>\n",
       "      <td>0071116909945</td>\n",
       "      <td>63</td>\n",
       "      <td>30</td>\n",
       "      <td>1.5</td>\n",
       "      <td>744</td>\n",
       "      <td>promo</td>\n",
       "      <td>1169</td>\n",
       "      <td>876.75</td>\n",
       "      <td>online</td>\n",
       "      <td>silver</td>\n",
       "    </tr>\n",
       "  </tbody>\n",
       "</table>\n",
       "<p>200 rows × 12 columns</p>\n",
       "</div>"
      ],
      "text/plain": [
       "          date      ean8          ean13  units_sold  stock  rating  \\\n",
       "0   2021-01-25  00660983  0066098157118          75     79     3.7   \n",
       "1   2020-03-07  00117708  0042232689899          75     68     4.9   \n",
       "2   2021-09-20  00326896  0098054635231          49     27     4.1   \n",
       "3   2018-04-26  00980548  0050542961673          94     22     1.6   \n",
       "4   2019-04-18  00237253  0037812373497          66     67     1.3   \n",
       "..         ...       ...            ...         ...    ...     ...   \n",
       "195 2018-07-28  00415026  0008370264503          50     27     3.1   \n",
       "196 2020-03-05  00867559  0066214306413          85     62     2.8   \n",
       "197 2021-03-05  00098403  0006500312049          20     42     2.9   \n",
       "198 2019-03-30  00032056  0007374372979          24     81     4.8   \n",
       "199 2020-05-12  00339445  0071116909945          63     30     1.5   \n",
       "\n",
       "     cost_per_unit   promo  normal_price  new_price_per_unit location   color  \n",
       "0             3109  normal          8488             8488.00   online   black  \n",
       "1             7613  normal          5027             5027.00   online   black  \n",
       "2             1986  normal          5209             5209.00    store    grey  \n",
       "3             7452  normal          7927             7927.00    store  silver  \n",
       "4             6949  normal          7652             7652.00    store    grey  \n",
       "..             ...     ...           ...                 ...      ...     ...  \n",
       "195           6900   promo          3781             2835.75    store    grey  \n",
       "196           2727   promo          3775             2831.25    store  silver  \n",
       "197           9593   promo           607              455.25   online   black  \n",
       "198           4621   promo          5632             4224.00   online    grey  \n",
       "199            744   promo          1169              876.75   online  silver  \n",
       "\n",
       "[200 rows x 12 columns]"
      ]
     },
     "execution_count": 18,
     "metadata": {},
     "output_type": "execute_result"
    }
   ],
   "source": [
    "import copy\n",
    "dirty_data = copy.deepcopy(clean_data)\n",
    "dirty_data"
   ]
  },
  {
   "cell_type": "code",
   "execution_count": 19,
   "id": "recovered-broadway",
   "metadata": {},
   "outputs": [],
   "source": [
    "# add noise to the promo variable\n",
    "dirty_data.promo = \"normal\""
   ]
  },
  {
   "cell_type": "code",
   "execution_count": 20,
   "id": "unlike-sharp",
   "metadata": {},
   "outputs": [],
   "source": [
    "# create a generator and a criteria for selecting when to add noise\n",
    "rng = np.random.default_rng(124)\n",
    "criteria = np.arange(0,1.1,step=.1)"
   ]
  },
  {
   "cell_type": "code",
   "execution_count": 21,
   "id": "circular-wesley",
   "metadata": {},
   "outputs": [],
   "source": [
    "# overwrite data\n",
    "for i in dirty_data.index:\n",
    "    if rng.choice(criteria,size=1) > 0.5:\n",
    "          dirty_data.loc[i,'ean8'] = rng.choice(clean_data.ean8,size=1)"
   ]
  },
  {
   "cell_type": "code",
   "execution_count": 22,
   "id": "experienced-retirement",
   "metadata": {},
   "outputs": [],
   "source": [
    "# add white space \n",
    "for i in dirty_data.index:\n",
    "    if rng.choice(criteria,size=1) > 0.6:\n",
    "          dirty_data.loc[i,'location'] = \" \"+dirty_data.loc[i,'location']+\" \""
   ]
  },
  {
   "cell_type": "code",
   "execution_count": 23,
   "id": "progressive-intersection",
   "metadata": {},
   "outputs": [],
   "source": [
    "# insert NaNs\n",
    "for i in dirty_data.index:\n",
    "    if rng.choice(criteria,size=1) > 0.6:\n",
    "          dirty_data.loc[i,'color'] = np.nan"
   ]
  },
  {
   "cell_type": "code",
   "execution_count": 24,
   "id": "presidential-pleasure",
   "metadata": {},
   "outputs": [],
   "source": [
    "# insert out of range data\n",
    "for i in dirty_data.index:\n",
    "    if rng.choice(criteria,size=1) > 0.4:\n",
    "          dirty_data.loc[i,'stock'] = - dirty_data.loc[i,'stock']"
   ]
  },
  {
   "cell_type": "code",
   "execution_count": 25,
   "id": "recognized-summary",
   "metadata": {},
   "outputs": [],
   "source": [
    "# remove the 00 prefix from the EAN13 barcode\n",
    "for i in dirty_data.index:\n",
    "    if rng.choice(criteria,size=1) > 0.8:\n",
    "          dirty_data.loc[i,'ean13'] = int(dirty_data.loc[i,'ean13'])"
   ]
  },
  {
   "cell_type": "code",
   "execution_count": 26,
   "id": "impaired-ready",
   "metadata": {},
   "outputs": [],
   "source": [
    "# duplicate EAN13 barcode data\n",
    "for i in dirty_data.index:\n",
    "    if rng.choice(criteria,size=1) > 0.8:\n",
    "          dirty_data.loc[i,'ean13'] = dirty_data.loc[i,'ean13']*2"
   ]
  },
  {
   "cell_type": "code",
   "execution_count": 27,
   "id": "clinical-rochester",
   "metadata": {},
   "outputs": [],
   "source": [
    "# insert out of range data\n",
    "for i in dirty_data.index:\n",
    "    if rng.choice(criteria,size=1) > 0.5:\n",
    "          dirty_data.loc[i,'new_price_per_unit'] = 99999"
   ]
  },
  {
   "cell_type": "code",
   "execution_count": 28,
   "id": "wooden-myrtle",
   "metadata": {},
   "outputs": [
    {
     "data": {
      "text/html": [
       "<div>\n",
       "<style scoped>\n",
       "    .dataframe tbody tr th:only-of-type {\n",
       "        vertical-align: middle;\n",
       "    }\n",
       "\n",
       "    .dataframe tbody tr th {\n",
       "        vertical-align: top;\n",
       "    }\n",
       "\n",
       "    .dataframe thead th {\n",
       "        text-align: right;\n",
       "    }\n",
       "</style>\n",
       "<table border=\"1\" class=\"dataframe\">\n",
       "  <thead>\n",
       "    <tr style=\"text-align: right;\">\n",
       "      <th></th>\n",
       "      <th>units_sold</th>\n",
       "      <th>stock</th>\n",
       "      <th>rating</th>\n",
       "      <th>cost_per_unit</th>\n",
       "      <th>normal_price</th>\n",
       "      <th>new_price_per_unit</th>\n",
       "    </tr>\n",
       "  </thead>\n",
       "  <tbody>\n",
       "    <tr>\n",
       "      <th>count</th>\n",
       "      <td>200.000000</td>\n",
       "      <td>200.000000</td>\n",
       "      <td>200.000000</td>\n",
       "      <td>200.000000</td>\n",
       "      <td>200.000000</td>\n",
       "      <td>200.000000</td>\n",
       "    </tr>\n",
       "    <tr>\n",
       "      <th>mean</th>\n",
       "      <td>46.535000</td>\n",
       "      <td>-4.680000</td>\n",
       "      <td>2.776000</td>\n",
       "      <td>4759.940000</td>\n",
       "      <td>4968.800000</td>\n",
       "      <td>47338.177500</td>\n",
       "    </tr>\n",
       "    <tr>\n",
       "      <th>std</th>\n",
       "      <td>28.433803</td>\n",
       "      <td>57.271702</td>\n",
       "      <td>1.296002</td>\n",
       "      <td>2746.094386</td>\n",
       "      <td>2828.942596</td>\n",
       "      <td>47792.626799</td>\n",
       "    </tr>\n",
       "    <tr>\n",
       "      <th>min</th>\n",
       "      <td>0.000000</td>\n",
       "      <td>-99.000000</td>\n",
       "      <td>0.500000</td>\n",
       "      <td>158.000000</td>\n",
       "      <td>229.000000</td>\n",
       "      <td>209.250000</td>\n",
       "    </tr>\n",
       "    <tr>\n",
       "      <th>25%</th>\n",
       "      <td>23.000000</td>\n",
       "      <td>-51.250000</td>\n",
       "      <td>1.600000</td>\n",
       "      <td>2680.500000</td>\n",
       "      <td>2388.000000</td>\n",
       "      <td>4131.562500</td>\n",
       "    </tr>\n",
       "    <tr>\n",
       "      <th>50%</th>\n",
       "      <td>45.500000</td>\n",
       "      <td>-13.500000</td>\n",
       "      <td>2.800000</td>\n",
       "      <td>4409.500000</td>\n",
       "      <td>5242.500000</td>\n",
       "      <td>7789.500000</td>\n",
       "    </tr>\n",
       "    <tr>\n",
       "      <th>75%</th>\n",
       "      <td>71.000000</td>\n",
       "      <td>45.250000</td>\n",
       "      <td>4.000000</td>\n",
       "      <td>7247.750000</td>\n",
       "      <td>7406.750000</td>\n",
       "      <td>99999.000000</td>\n",
       "    </tr>\n",
       "    <tr>\n",
       "      <th>max</th>\n",
       "      <td>99.000000</td>\n",
       "      <td>99.000000</td>\n",
       "      <td>4.900000</td>\n",
       "      <td>9894.000000</td>\n",
       "      <td>9927.000000</td>\n",
       "      <td>99999.000000</td>\n",
       "    </tr>\n",
       "  </tbody>\n",
       "</table>\n",
       "</div>"
      ],
      "text/plain": [
       "       units_sold       stock      rating  cost_per_unit  normal_price  \\\n",
       "count  200.000000  200.000000  200.000000     200.000000    200.000000   \n",
       "mean    46.535000   -4.680000    2.776000    4759.940000   4968.800000   \n",
       "std     28.433803   57.271702    1.296002    2746.094386   2828.942596   \n",
       "min      0.000000  -99.000000    0.500000     158.000000    229.000000   \n",
       "25%     23.000000  -51.250000    1.600000    2680.500000   2388.000000   \n",
       "50%     45.500000  -13.500000    2.800000    4409.500000   5242.500000   \n",
       "75%     71.000000   45.250000    4.000000    7247.750000   7406.750000   \n",
       "max     99.000000   99.000000    4.900000    9894.000000   9927.000000   \n",
       "\n",
       "       new_price_per_unit  \n",
       "count          200.000000  \n",
       "mean         47338.177500  \n",
       "std          47792.626799  \n",
       "min            209.250000  \n",
       "25%           4131.562500  \n",
       "50%           7789.500000  \n",
       "75%          99999.000000  \n",
       "max          99999.000000  "
      ]
     },
     "execution_count": 28,
     "metadata": {},
     "output_type": "execute_result"
    }
   ],
   "source": [
    "dirty_data.describe()"
   ]
  },
  {
   "cell_type": "code",
   "execution_count": 29,
   "id": "correct-senegal",
   "metadata": {},
   "outputs": [
    {
     "name": "stdout",
     "output_type": "stream",
     "text": [
      "<class 'pandas.core.frame.DataFrame'>\n",
      "RangeIndex: 200 entries, 0 to 199\n",
      "Data columns (total 12 columns):\n",
      " #   Column              Non-Null Count  Dtype         \n",
      "---  ------              --------------  -----         \n",
      " 0   date                200 non-null    datetime64[ns]\n",
      " 1   ean8                200 non-null    object        \n",
      " 2   ean13               200 non-null    object        \n",
      " 3   units_sold          200 non-null    int64         \n",
      " 4   stock               200 non-null    int64         \n",
      " 5   rating              200 non-null    float64       \n",
      " 6   cost_per_unit       200 non-null    int64         \n",
      " 7   promo               200 non-null    object        \n",
      " 8   normal_price        200 non-null    int64         \n",
      " 9   new_price_per_unit  200 non-null    float64       \n",
      " 10  location            200 non-null    object        \n",
      " 11  color               116 non-null    object        \n",
      "dtypes: datetime64[ns](1), float64(2), int64(4), object(5)\n",
      "memory usage: 18.9+ KB\n"
     ]
    }
   ],
   "source": [
    "dirty_data.info()"
   ]
  },
  {
   "cell_type": "code",
   "execution_count": 30,
   "id": "acoustic-canadian",
   "metadata": {},
   "outputs": [],
   "source": [
    "dirty_data.to_csv('dirty_data.csv')\n",
    "clean_data.to_csv('clean_data.csv')"
   ]
  }
 ],
 "metadata": {
  "kernelspec": {
   "display_name": "Python 3",
   "language": "python",
   "name": "python3"
  },
  "language_info": {
   "codemirror_mode": {
    "name": "ipython",
    "version": 3
   },
   "file_extension": ".py",
   "mimetype": "text/x-python",
   "name": "python",
   "nbconvert_exporter": "python",
   "pygments_lexer": "ipython3",
   "version": "3.7.10"
  }
 },
 "nbformat": 4,
 "nbformat_minor": 5
}
